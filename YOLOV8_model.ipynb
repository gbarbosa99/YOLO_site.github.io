{
  "nbformat": 4,
  "nbformat_minor": 0,
  "metadata": {
    "colab": {
      "provenance": [],
      "machine_shape": "hm",
      "gpuType": "L4",
      "authorship_tag": "ABX9TyMNpEaQ60i2oONVNgfaEwkH",
      "include_colab_link": true
    },
    "kernelspec": {
      "name": "python3",
      "display_name": "Python 3"
    },
    "language_info": {
      "name": "python"
    },
    "accelerator": "GPU"
  },
  "cells": [
    {
      "cell_type": "markdown",
      "metadata": {
        "id": "view-in-github",
        "colab_type": "text"
      },
      "source": [
        "<a href=\"https://colab.research.google.com/github/harrisonstaylor/YOLO_site.github.io/blob/main/YOLOV8_model.ipynb\" target=\"_parent\"><img src=\"https://colab.research.google.com/assets/colab-badge.svg\" alt=\"Open In Colab\"/></a>"
      ]
    },
    {
      "cell_type": "code",
      "source": [
        "from google.colab import drive\n",
        "drive.mount('/content/drive')"
      ],
      "metadata": {
        "id": "CFUSnkXXqCTT"
      },
      "execution_count": null,
      "outputs": []
    },
    {
      "cell_type": "code",
      "source": [
        "!mkdir -p /content/drive/MyDrive/runs\n",
        "!mkdir -p runs\n",
        "!mount --rbind /content/drive/MyDrive/runs ./runs"
      ],
      "metadata": {
        "id": "cnR7Ly5igxEW"
      },
      "execution_count": null,
      "outputs": []
    },
    {
      "cell_type": "code",
      "source": [
        "ROOT_DIR = '/content/drive/MyDrive/ML-PROJECT'"
      ],
      "metadata": {
        "id": "SviYMUdFg3vO"
      },
      "execution_count": null,
      "outputs": []
    },
    {
      "cell_type": "code",
      "source": [
        "%pip install ultralytics"
      ],
      "metadata": {
        "id": "ByimuH92g7Fu"
      },
      "execution_count": null,
      "outputs": []
    },
    {
      "cell_type": "code",
      "source": [
        "import os\n",
        "from ultralytics import YOLO\n",
        "model = YOLO()#os.path.join(ROOT_DIR, 'yolo_config.yaml'))\n",
        "result = model.train(data=os.path.join(ROOT_DIR, 'Dataset/dataset.yaml'), epochs=10)\n"
      ],
      "metadata": {
        "id": "i0uQ_lTtg5KC"
      },
      "execution_count": null,
      "outputs": []
    }
  ]
}